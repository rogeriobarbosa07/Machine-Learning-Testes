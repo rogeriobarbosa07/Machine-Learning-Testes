{
 "cells": [
  {
   "cell_type": "markdown",
   "id": "67d7e1f3",
   "metadata": {},
   "source": [
    "### Cálculos\n",
    "\n",
    "Correlação -> Inclinação -> Interceptação -> Previsão"
   ]
  },
  {
   "cell_type": "code",
   "execution_count": 2,
   "id": "97ce1366",
   "metadata": {},
   "outputs": [],
   "source": [
    "import numpy as np\n",
    "\n",
    "class LinearRegression:\n",
    "    def __init__(self, x, y):\n",
    "        self.x = x\n",
    "        self.y = y\n",
    "        self.__correlation_coefficient = self.__correlacao()\n",
    "        self.__inclination = self.__inclinacao()\n",
    "        self.__intercept = self.__interceptacao()\n",
    "    \n",
    "    def __correlacao(self):\n",
    "        covariacao = np.cov(self.x, self.y, bias=True)[0][1]\n",
    "        variancia_x = np.var(self.x)\n",
    "        variancia_y = np.var(self.y)\n",
    "        return covariacao/np.sqrt(variancia_x * variancia_y)\n",
    "\n",
    "    def __inclinacao(self):\n",
    "        stdx = np.std(self.x)\n",
    "        stdy = np.std(self.y)\n",
    "        return self.__correlation_coefficient * (stdy/stdx)\n",
    "\n",
    "    def __interceptacao(self):\n",
    "        mediax = np.mean(self.x)\n",
    "        mediay = np.mean(self.y)\n",
    "        return mediay - mediax * self.__inclination\n",
    "\n",
    "    def previsao(self, valor):\n",
    "        return self.__intercept + (self.__inclination * valor)"
   ]
  },
  {
   "cell_type": "code",
   "execution_count": 4,
   "id": "f536a07d",
   "metadata": {},
   "outputs": [
    {
     "name": "stdout",
     "output_type": "stream",
     "text": [
      "12.0\n"
     ]
    }
   ],
   "source": [
    "x = np.array([1,2,3,4,5])\n",
    "y = np.array([2,4,6,8,10])\n",
    "\n",
    "lr= LinearRegression(x, y)\n",
    "previsao = lr.previsao(6)\n",
    "print(previsao)"
   ]
  }
 ],
 "metadata": {
  "kernelspec": {
   "display_name": "env (3.11.9)",
   "language": "python",
   "name": "python3"
  },
  "language_info": {
   "codemirror_mode": {
    "name": "ipython",
    "version": 3
   },
   "file_extension": ".py",
   "mimetype": "text/x-python",
   "name": "python",
   "nbconvert_exporter": "python",
   "pygments_lexer": "ipython3",
   "version": "3.11.9"
  }
 },
 "nbformat": 4,
 "nbformat_minor": 5
}
