{
 "cells": [
  {
   "cell_type": "code",
   "execution_count": 1,
   "id": "a38cbcc0",
   "metadata": {},
   "outputs": [],
   "source": [
    "from sklearn.cluster import KMeans\n",
    "import matplotlib.pyplot as plt"
   ]
  },
  {
   "cell_type": "code",
   "execution_count": 3,
   "id": "a51294b9",
   "metadata": {},
   "outputs": [
    {
     "ename": "TypeError",
     "evalue": "list indices must be integers or slices, not tuple",
     "output_type": "error",
     "traceback": [
      "\u001b[31m---------------------------------------------------------------------------\u001b[39m",
      "\u001b[31mTypeError\u001b[39m                                 Traceback (most recent call last)",
      "\u001b[36mCell\u001b[39m\u001b[36m \u001b[39m\u001b[32mIn[3]\u001b[39m\u001b[32m, line 12\u001b[39m\n\u001b[32m      1\u001b[39m dataset = [ \u001b[38;5;66;03m# [x,y], [x,y], [x,y], ...\u001b[39;00m\n\u001b[32m      2\u001b[39m     [\u001b[32m1\u001b[39m, \u001b[32m3\u001b[39m], [\u001b[32m1\u001b[39m, \u001b[32m4\u001b[39m],\n\u001b[32m      3\u001b[39m     [\u001b[32m2\u001b[39m, \u001b[32m5\u001b[39m], [\u001b[32m2\u001b[39m, \u001b[32m2\u001b[39m], [\u001b[32m2\u001b[39m, \u001b[32m7\u001b[39m],\n\u001b[32m   (...)\u001b[39m\u001b[32m      9\u001b[39m     [\u001b[32m8\u001b[39m, \u001b[32m1\u001b[39m], [\u001b[32m8\u001b[39m, \u001b[32m2\u001b[39m], [\u001b[32m8\u001b[39m, \u001b[32m5\u001b[39m], [\u001b[32m8\u001b[39m, \u001b[32m7\u001b[39m]\n\u001b[32m     10\u001b[39m ]\n\u001b[32m---> \u001b[39m\u001b[32m12\u001b[39m x = \u001b[43mdataset\u001b[49m\u001b[43m[\u001b[49m\u001b[43m:\u001b[49m\u001b[43m,\u001b[49m\u001b[32;43m0\u001b[39;49m\u001b[43m]\u001b[49m\n\u001b[32m     13\u001b[39m y = dataset[:,\u001b[32m1\u001b[39m]\n",
      "\u001b[31mTypeError\u001b[39m: list indices must be integers or slices, not tuple"
     ]
    }
   ],
   "source": [
    "dataset = [ # [x,y], [x,y], [x,y], ...\n",
    "    [1, 3], [1, 4],\n",
    "    [2, 5], [2, 2], [2, 7],\n",
    "    [3, 4], [3, 7], [3, 6],\n",
    "    [4, 4], [4, 8],\n",
    "    [5, 2], [5, 7], [5, 8],\n",
    "    [6, 3], [6, 7], [6, 8],\n",
    "    [7, 4], [7, 5], [7, 7],\n",
    "    [8, 1], [8, 2], [8, 5], [8, 7]\n",
    "]\n",
    "\n",
    "x = dataset[:,0]\n",
    "y = dataset[:,1]"
   ]
  },
  {
   "cell_type": "code",
   "execution_count": null,
   "id": "807edb94",
   "metadata": {},
   "outputs": [],
   "source": [
    "plt.scatter()"
   ]
  }
 ],
 "metadata": {
  "kernelspec": {
   "display_name": "env (3.11.9)",
   "language": "python",
   "name": "python3"
  },
  "language_info": {
   "codemirror_mode": {
    "name": "ipython",
    "version": 3
   },
   "file_extension": ".py",
   "mimetype": "text/x-python",
   "name": "python",
   "nbconvert_exporter": "python",
   "pygments_lexer": "ipython3",
   "version": "3.11.9"
  }
 },
 "nbformat": 4,
 "nbformat_minor": 5
}
