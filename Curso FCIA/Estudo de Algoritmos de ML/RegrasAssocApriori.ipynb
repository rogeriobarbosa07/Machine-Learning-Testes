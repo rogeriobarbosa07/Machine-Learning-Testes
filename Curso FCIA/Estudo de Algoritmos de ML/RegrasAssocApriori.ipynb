{
 "cells": [
  {
   "cell_type": "code",
   "execution_count": 1,
   "metadata": {
    "executionInfo": {
     "elapsed": 12,
     "status": "ok",
     "timestamp": 1757681299822,
     "user": {
      "displayName": "Rogério Barbosa",
      "userId": "08974657845564656348"
     },
     "user_tz": 180
    },
    "id": "WVK1s7zr9IzZ"
   },
   "outputs": [],
   "source": [
    "import pandas as pd\n",
    "from mlxtend.preprocessing import TransactionEncoder\n",
    "from mlxtend.frequent_patterns import apriori, association_rules"
   ]
  },
  {
   "cell_type": "code",
   "execution_count": 2,
   "metadata": {
    "colab": {
     "base_uri": "https://localhost:8080/"
    },
    "executionInfo": {
     "elapsed": 13,
     "status": "ok",
     "timestamp": 1757681401621,
     "user": {
      "displayName": "Rogério Barbosa",
      "userId": "08974657845564656348"
     },
     "user_tz": 180
    },
    "id": "jKzuhQct-Dpm",
    "outputId": "d10d4b74-8286-4e31-d9cd-05c2b14d84fe"
   },
   "outputs": [
    {
     "data": {
      "text/plain": [
       "[['PAINEL', 'BANCOS', 'BOLSA DA PORTA', 'ESTRIBO'],\n",
       " ['BANCOS', 'ALARME', 'BOLSA DA PORTA'],\n",
       " ['PAINEL', 'ALARME', 'ESTRIBO'],\n",
       " ['BANCOS', 'PAINEL', 'ESTRIBO'],\n",
       " ['BOLSA DA PORTA', 'PAINEL', 'ALARME'],\n",
       " ['PAINEL', 'ALARME', 'ESTRIBO', 'BANCOS'],\n",
       " ['BANCOS', 'BOLSA DA PORTA', 'ESTRIBO'],\n",
       " ['PAINEL', 'BANCOS', 'ALARME', 'ESTRIBO'],\n",
       " ['BOLSA DA PORTA', 'ALARME', 'ESTRIBO'],\n",
       " ['PAINEL', 'ALARME', 'BANCOS'],\n",
       " ['BANCOS', 'BOLSA DA PORTA', 'PAINEL'],\n",
       " ['PAINEL', 'ESTRIBO', 'BANCOS'],\n",
       " ['BANCOS', 'ALARME', 'BOLSA DA PORTA', 'ESTRIBO'],\n",
       " ['PAINEL', 'ALARME', 'BANCOS', 'ESTRIBO'],\n",
       " ['BOLSA DA PORTA', 'PAINEL', 'ALARME', 'ESTRIBO'],\n",
       " ['ALARME', 'ESTRIBO', 'BANCOS'],\n",
       " ['BANCOS', 'BOLSA DA PORTA', 'ALARME'],\n",
       " ['PAINEL', 'BANCOS', 'ESTRIBO'],\n",
       " ['BOLSA DA PORTA', 'ALARME', 'PAINEL'],\n",
       " ['PAINEL', 'ALARME', 'BANCOS', 'ESTRIBO']]"
      ]
     },
     "execution_count": 2,
     "metadata": {},
     "output_type": "execute_result"
    }
   ],
   "source": [
    "with open('Transacoes.txt', \"r\") as f:\n",
    "  transactions = [line.strip().split(\",\") for line in f.readlines()]\n",
    "\n",
    "transactions"
   ]
  },
  {
   "cell_type": "code",
   "execution_count": 3,
   "metadata": {
    "colab": {
     "base_uri": "https://localhost:8080/",
     "height": 677
    },
    "executionInfo": {
     "elapsed": 23,
     "status": "ok",
     "timestamp": 1757681788665,
     "user": {
      "displayName": "Rogério Barbosa",
      "userId": "08974657845564656348"
     },
     "user_tz": 180
    },
    "id": "lID8CUyB_IJ2",
    "outputId": "9bd6e250-cc40-40f8-ac4f-804442f78479"
   },
   "outputs": [
    {
     "data": {
      "text/html": [
       "<div>\n",
       "<style scoped>\n",
       "    .dataframe tbody tr th:only-of-type {\n",
       "        vertical-align: middle;\n",
       "    }\n",
       "\n",
       "    .dataframe tbody tr th {\n",
       "        vertical-align: top;\n",
       "    }\n",
       "\n",
       "    .dataframe thead th {\n",
       "        text-align: right;\n",
       "    }\n",
       "</style>\n",
       "<table border=\"1\" class=\"dataframe\">\n",
       "  <thead>\n",
       "    <tr style=\"text-align: right;\">\n",
       "      <th></th>\n",
       "      <th>ALARME</th>\n",
       "      <th>BANCOS</th>\n",
       "      <th>BOLSA DA PORTA</th>\n",
       "      <th>ESTRIBO</th>\n",
       "      <th>PAINEL</th>\n",
       "    </tr>\n",
       "  </thead>\n",
       "  <tbody>\n",
       "    <tr>\n",
       "      <th>0</th>\n",
       "      <td>False</td>\n",
       "      <td>True</td>\n",
       "      <td>True</td>\n",
       "      <td>True</td>\n",
       "      <td>True</td>\n",
       "    </tr>\n",
       "    <tr>\n",
       "      <th>1</th>\n",
       "      <td>True</td>\n",
       "      <td>True</td>\n",
       "      <td>True</td>\n",
       "      <td>False</td>\n",
       "      <td>False</td>\n",
       "    </tr>\n",
       "    <tr>\n",
       "      <th>2</th>\n",
       "      <td>True</td>\n",
       "      <td>False</td>\n",
       "      <td>False</td>\n",
       "      <td>True</td>\n",
       "      <td>True</td>\n",
       "    </tr>\n",
       "    <tr>\n",
       "      <th>3</th>\n",
       "      <td>False</td>\n",
       "      <td>True</td>\n",
       "      <td>False</td>\n",
       "      <td>True</td>\n",
       "      <td>True</td>\n",
       "    </tr>\n",
       "    <tr>\n",
       "      <th>4</th>\n",
       "      <td>True</td>\n",
       "      <td>False</td>\n",
       "      <td>True</td>\n",
       "      <td>False</td>\n",
       "      <td>True</td>\n",
       "    </tr>\n",
       "    <tr>\n",
       "      <th>5</th>\n",
       "      <td>True</td>\n",
       "      <td>True</td>\n",
       "      <td>False</td>\n",
       "      <td>True</td>\n",
       "      <td>True</td>\n",
       "    </tr>\n",
       "    <tr>\n",
       "      <th>6</th>\n",
       "      <td>False</td>\n",
       "      <td>True</td>\n",
       "      <td>True</td>\n",
       "      <td>True</td>\n",
       "      <td>False</td>\n",
       "    </tr>\n",
       "    <tr>\n",
       "      <th>7</th>\n",
       "      <td>True</td>\n",
       "      <td>True</td>\n",
       "      <td>False</td>\n",
       "      <td>True</td>\n",
       "      <td>True</td>\n",
       "    </tr>\n",
       "    <tr>\n",
       "      <th>8</th>\n",
       "      <td>True</td>\n",
       "      <td>False</td>\n",
       "      <td>True</td>\n",
       "      <td>True</td>\n",
       "      <td>False</td>\n",
       "    </tr>\n",
       "    <tr>\n",
       "      <th>9</th>\n",
       "      <td>True</td>\n",
       "      <td>True</td>\n",
       "      <td>False</td>\n",
       "      <td>False</td>\n",
       "      <td>True</td>\n",
       "    </tr>\n",
       "    <tr>\n",
       "      <th>10</th>\n",
       "      <td>False</td>\n",
       "      <td>True</td>\n",
       "      <td>True</td>\n",
       "      <td>False</td>\n",
       "      <td>True</td>\n",
       "    </tr>\n",
       "    <tr>\n",
       "      <th>11</th>\n",
       "      <td>False</td>\n",
       "      <td>True</td>\n",
       "      <td>False</td>\n",
       "      <td>True</td>\n",
       "      <td>True</td>\n",
       "    </tr>\n",
       "    <tr>\n",
       "      <th>12</th>\n",
       "      <td>True</td>\n",
       "      <td>True</td>\n",
       "      <td>True</td>\n",
       "      <td>True</td>\n",
       "      <td>False</td>\n",
       "    </tr>\n",
       "    <tr>\n",
       "      <th>13</th>\n",
       "      <td>True</td>\n",
       "      <td>True</td>\n",
       "      <td>False</td>\n",
       "      <td>True</td>\n",
       "      <td>True</td>\n",
       "    </tr>\n",
       "    <tr>\n",
       "      <th>14</th>\n",
       "      <td>True</td>\n",
       "      <td>False</td>\n",
       "      <td>True</td>\n",
       "      <td>True</td>\n",
       "      <td>True</td>\n",
       "    </tr>\n",
       "    <tr>\n",
       "      <th>15</th>\n",
       "      <td>True</td>\n",
       "      <td>True</td>\n",
       "      <td>False</td>\n",
       "      <td>True</td>\n",
       "      <td>False</td>\n",
       "    </tr>\n",
       "    <tr>\n",
       "      <th>16</th>\n",
       "      <td>True</td>\n",
       "      <td>True</td>\n",
       "      <td>True</td>\n",
       "      <td>False</td>\n",
       "      <td>False</td>\n",
       "    </tr>\n",
       "    <tr>\n",
       "      <th>17</th>\n",
       "      <td>False</td>\n",
       "      <td>True</td>\n",
       "      <td>False</td>\n",
       "      <td>True</td>\n",
       "      <td>True</td>\n",
       "    </tr>\n",
       "    <tr>\n",
       "      <th>18</th>\n",
       "      <td>True</td>\n",
       "      <td>False</td>\n",
       "      <td>True</td>\n",
       "      <td>False</td>\n",
       "      <td>True</td>\n",
       "    </tr>\n",
       "    <tr>\n",
       "      <th>19</th>\n",
       "      <td>True</td>\n",
       "      <td>True</td>\n",
       "      <td>False</td>\n",
       "      <td>True</td>\n",
       "      <td>True</td>\n",
       "    </tr>\n",
       "  </tbody>\n",
       "</table>\n",
       "</div>"
      ],
      "text/plain": [
       "    ALARME  BANCOS  BOLSA DA PORTA  ESTRIBO  PAINEL\n",
       "0    False    True            True     True    True\n",
       "1     True    True            True    False   False\n",
       "2     True   False           False     True    True\n",
       "3    False    True           False     True    True\n",
       "4     True   False            True    False    True\n",
       "5     True    True           False     True    True\n",
       "6    False    True            True     True   False\n",
       "7     True    True           False     True    True\n",
       "8     True   False            True     True   False\n",
       "9     True    True           False    False    True\n",
       "10   False    True            True    False    True\n",
       "11   False    True           False     True    True\n",
       "12    True    True            True     True   False\n",
       "13    True    True           False     True    True\n",
       "14    True   False            True     True    True\n",
       "15    True    True           False     True   False\n",
       "16    True    True            True    False   False\n",
       "17   False    True           False     True    True\n",
       "18    True   False            True    False    True\n",
       "19    True    True           False     True    True"
      ]
     },
     "execution_count": 3,
     "metadata": {},
     "output_type": "execute_result"
    }
   ],
   "source": [
    "# criando um array\n",
    "te = TransactionEncoder()\n",
    "te_array = te.fit(transactions).transform(transactions)\n",
    "\n",
    "# criando o dataset com o array\n",
    "df = pd.DataFrame(te_array, columns=te.columns_)\n",
    "df"
   ]
  },
  {
   "cell_type": "code",
   "execution_count": 4,
   "metadata": {
    "colab": {
     "base_uri": "https://localhost:8080/",
     "height": 300
    },
    "executionInfo": {
     "elapsed": 359,
     "status": "ok",
     "timestamp": 1757682139709,
     "user": {
      "displayName": "Rogério Barbosa",
      "userId": "08974657845564656348"
     },
     "user_tz": 180
    },
    "id": "Q455hCUo_my2",
    "outputId": "b55b61a2-6144-4429-f9d0-aca05724d464"
   },
   "outputs": [
    {
     "data": {
      "text/html": [
       "<div>\n",
       "<style scoped>\n",
       "    .dataframe tbody tr th:only-of-type {\n",
       "        vertical-align: middle;\n",
       "    }\n",
       "\n",
       "    .dataframe tbody tr th {\n",
       "        vertical-align: top;\n",
       "    }\n",
       "\n",
       "    .dataframe thead th {\n",
       "        text-align: right;\n",
       "    }\n",
       "</style>\n",
       "<table border=\"1\" class=\"dataframe\">\n",
       "  <thead>\n",
       "    <tr style=\"text-align: right;\">\n",
       "      <th></th>\n",
       "      <th>support</th>\n",
       "      <th>itemsets</th>\n",
       "    </tr>\n",
       "  </thead>\n",
       "  <tbody>\n",
       "    <tr>\n",
       "      <th>0</th>\n",
       "      <td>0.70</td>\n",
       "      <td>(ALARME)</td>\n",
       "    </tr>\n",
       "    <tr>\n",
       "      <th>1</th>\n",
       "      <td>0.75</td>\n",
       "      <td>(BANCOS)</td>\n",
       "    </tr>\n",
       "    <tr>\n",
       "      <th>2</th>\n",
       "      <td>0.50</td>\n",
       "      <td>(BOLSA DA PORTA)</td>\n",
       "    </tr>\n",
       "    <tr>\n",
       "      <th>3</th>\n",
       "      <td>0.70</td>\n",
       "      <td>(ESTRIBO)</td>\n",
       "    </tr>\n",
       "    <tr>\n",
       "      <th>4</th>\n",
       "      <td>0.70</td>\n",
       "      <td>(PAINEL)</td>\n",
       "    </tr>\n",
       "    <tr>\n",
       "      <th>5</th>\n",
       "      <td>0.55</td>\n",
       "      <td>(ESTRIBO, BANCOS)</td>\n",
       "    </tr>\n",
       "    <tr>\n",
       "      <th>6</th>\n",
       "      <td>0.50</td>\n",
       "      <td>(PAINEL, BANCOS)</td>\n",
       "    </tr>\n",
       "    <tr>\n",
       "      <th>7</th>\n",
       "      <td>0.50</td>\n",
       "      <td>(ESTRIBO, PAINEL)</td>\n",
       "    </tr>\n",
       "  </tbody>\n",
       "</table>\n",
       "</div>"
      ],
      "text/plain": [
       "   support           itemsets\n",
       "0     0.70           (ALARME)\n",
       "1     0.75           (BANCOS)\n",
       "2     0.50   (BOLSA DA PORTA)\n",
       "3     0.70          (ESTRIBO)\n",
       "4     0.70           (PAINEL)\n",
       "5     0.55  (ESTRIBO, BANCOS)\n",
       "6     0.50   (PAINEL, BANCOS)\n",
       "7     0.50  (ESTRIBO, PAINEL)"
      ]
     },
     "execution_count": 4,
     "metadata": {},
     "output_type": "execute_result"
    }
   ],
   "source": [
    "# calculando freqência dos itens\n",
    "frequent_itemsets = apriori(df, min_support=0.5, use_colnames=True)\n",
    "frequent_itemsets"
   ]
  },
  {
   "cell_type": "code",
   "execution_count": 5,
   "metadata": {
    "colab": {
     "base_uri": "https://localhost:8080/"
    },
    "executionInfo": {
     "elapsed": 52,
     "status": "ok",
     "timestamp": 1757682146091,
     "user": {
      "displayName": "Rogério Barbosa",
      "userId": "08974657845564656348"
     },
     "user_tz": 180
    },
    "id": "5r_JoNbrAPE-",
    "outputId": "f7668ef7-dfa3-4489-aab2-033521f13519"
   },
   "outputs": [
    {
     "name": "stdout",
     "output_type": "stream",
     "text": [
      "  antecedents consequents  antecedent support  consequent support  support  \\\n",
      "0   (ESTRIBO)    (BANCOS)                0.70                0.75     0.55   \n",
      "1    (BANCOS)   (ESTRIBO)                0.75                0.70     0.55   \n",
      "2    (PAINEL)    (BANCOS)                0.70                0.75     0.50   \n",
      "3    (BANCOS)    (PAINEL)                0.75                0.70     0.50   \n",
      "4   (ESTRIBO)    (PAINEL)                0.70                0.70     0.50   \n",
      "5    (PAINEL)   (ESTRIBO)                0.70                0.70     0.50   \n",
      "\n",
      "   confidence      lift  representativity  leverage  conviction  \\\n",
      "0    0.785714  1.047619               1.0     0.025    1.166667   \n",
      "1    0.733333  1.047619               1.0     0.025    1.125000   \n",
      "2    0.714286  0.952381               1.0    -0.025    0.875000   \n",
      "3    0.666667  0.952381               1.0    -0.025    0.900000   \n",
      "4    0.714286  1.020408               1.0     0.010    1.050000   \n",
      "5    0.714286  1.020408               1.0     0.010    1.050000   \n",
      "\n",
      "   zhangs_metric   jaccard  certainty  kulczynski  \n",
      "0       0.151515  0.611111   0.142857    0.759524  \n",
      "1       0.181818  0.611111   0.111111    0.759524  \n",
      "2      -0.142857  0.526316  -0.142857    0.690476  \n",
      "3      -0.166667  0.526316  -0.111111    0.690476  \n",
      "4       0.066667  0.555556   0.047619    0.714286  \n",
      "5       0.066667  0.555556   0.047619    0.714286  \n"
     ]
    }
   ],
   "source": [
    "# criando regras de associação\n",
    "\n",
    "pd.set_option(\"display.max_columns\", None)\n",
    "\n",
    "rules = association_rules(frequent_itemsets, metric=\"confidence\", min_threshold=0.5)\n",
    "print(rules)"
   ]
  }
 ],
 "metadata": {
  "colab": {
   "authorship_tag": "ABX9TyN24OM0GDeK9zCMcJQWl6Dv",
   "provenance": []
  },
  "kernelspec": {
   "display_name": "env (3.11.9)",
   "language": "python",
   "name": "python3"
  },
  "language_info": {
   "codemirror_mode": {
    "name": "ipython",
    "version": 3
   },
   "file_extension": ".py",
   "mimetype": "text/x-python",
   "name": "python",
   "nbconvert_exporter": "python",
   "pygments_lexer": "ipython3",
   "version": "3.11.9"
  }
 },
 "nbformat": 4,
 "nbformat_minor": 0
}
