{
 "cells": [
  {
   "cell_type": "markdown",
   "id": "4875ae92",
   "metadata": {},
   "source": [
    "### Importando Libs"
   ]
  },
  {
   "cell_type": "code",
   "execution_count": 4,
   "id": "80efb8c2",
   "metadata": {},
   "outputs": [],
   "source": [
    "from sklearn import datasets\n",
    "import pandas as pd"
   ]
  },
  {
   "cell_type": "markdown",
   "id": "1d1e0295",
   "metadata": {},
   "source": [
    "### Carregando um conjunto de dados de exemplo"
   ]
  },
  {
   "cell_type": "code",
   "execution_count": null,
   "id": "d375d848",
   "metadata": {},
   "outputs": [],
   "source": [
    "vinhos = datasets.load_wine()"
   ]
  },
  {
   "cell_type": "code",
   "execution_count": 3,
   "id": "700719ad",
   "metadata": {},
   "outputs": [
    {
     "data": {
      "text/plain": [
       "array([[1.423e+01, 1.710e+00, 2.430e+00, ..., 1.040e+00, 3.920e+00,\n",
       "        1.065e+03],\n",
       "       [1.320e+01, 1.780e+00, 2.140e+00, ..., 1.050e+00, 3.400e+00,\n",
       "        1.050e+03],\n",
       "       [1.316e+01, 2.360e+00, 2.670e+00, ..., 1.030e+00, 3.170e+00,\n",
       "        1.185e+03],\n",
       "       ...,\n",
       "       [1.327e+01, 4.280e+00, 2.260e+00, ..., 5.900e-01, 1.560e+00,\n",
       "        8.350e+02],\n",
       "       [1.317e+01, 2.590e+00, 2.370e+00, ..., 6.000e-01, 1.620e+00,\n",
       "        8.400e+02],\n",
       "       [1.413e+01, 4.100e+00, 2.740e+00, ..., 6.100e-01, 1.600e+00,\n",
       "        5.600e+02]], shape=(178, 13))"
      ]
     },
     "execution_count": 3,
     "metadata": {},
     "output_type": "execute_result"
    }
   ],
   "source": [
    "vinhos.data"
   ]
  },
  {
   "cell_type": "code",
   "execution_count": 5,
   "id": "4c06b3ad",
   "metadata": {},
   "outputs": [],
   "source": [
    "# descrição dos atributos (colunas)\n",
    "atributos = ['Alcool', 'Acido malico', 'Cinzas', \n",
    "             'Alcalinidade das cinzas', 'Magnesio', \n",
    "             'Fenois totais', 'Flavonoides', \n",
    "             'Fenois nao flavonoides', 'Proantocianinas',\n",
    "             'Intensidade da cor', 'Matiz',\n",
    "             'OD280/OD315 de vinhos diluídos', 'Prolina']\n",
    "\n",
    "# criando a coluna alvo\n",
    "alvo = 'classe'\n",
    "\n",
    "# criando o dataframe com as colunas atributos definidas\n",
    "vinhos_df = pd.DataFrame(vinhos.data, columns=atributos)\n",
    "\n",
    "# Adiciona o rótulo da classe\n",
    "vinhos_df[alvo] = vinhos.target"
   ]
  }
 ],
 "metadata": {
  "kernelspec": {
   "display_name": "env",
   "language": "python",
   "name": "python3"
  },
  "language_info": {
   "codemirror_mode": {
    "name": "ipython",
    "version": 3
   },
   "file_extension": ".py",
   "mimetype": "text/x-python",
   "name": "python",
   "nbconvert_exporter": "python",
   "pygments_lexer": "ipython3",
   "version": "3.11.9"
  }
 },
 "nbformat": 4,
 "nbformat_minor": 5
}
