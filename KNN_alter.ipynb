{
 "cells": [
  {
   "cell_type": "markdown",
   "id": "4875ae92",
   "metadata": {},
   "source": [
    "### Importando Libs"
   ]
  },
  {
   "cell_type": "code",
   "execution_count": 10,
   "id": "80efb8c2",
   "metadata": {},
   "outputs": [],
   "source": [
    "from sklearn import datasets\n",
    "from sklearn.preprocessing import StandardScaler\n",
    "import pandas as pd"
   ]
  },
  {
   "cell_type": "markdown",
   "id": "1d1e0295",
   "metadata": {},
   "source": [
    "### Carregando um conjunto de dados de exemplo"
   ]
  },
  {
   "cell_type": "code",
   "execution_count": null,
   "id": "d375d848",
   "metadata": {},
   "outputs": [],
   "source": [
    "vinhos = datasets.load_wine()"
   ]
  },
  {
   "cell_type": "code",
   "execution_count": 3,
   "id": "700719ad",
   "metadata": {},
   "outputs": [
    {
     "data": {
      "text/plain": [
       "array([[1.423e+01, 1.710e+00, 2.430e+00, ..., 1.040e+00, 3.920e+00,\n",
       "        1.065e+03],\n",
       "       [1.320e+01, 1.780e+00, 2.140e+00, ..., 1.050e+00, 3.400e+00,\n",
       "        1.050e+03],\n",
       "       [1.316e+01, 2.360e+00, 2.670e+00, ..., 1.030e+00, 3.170e+00,\n",
       "        1.185e+03],\n",
       "       ...,\n",
       "       [1.327e+01, 4.280e+00, 2.260e+00, ..., 5.900e-01, 1.560e+00,\n",
       "        8.350e+02],\n",
       "       [1.317e+01, 2.590e+00, 2.370e+00, ..., 6.000e-01, 1.620e+00,\n",
       "        8.400e+02],\n",
       "       [1.413e+01, 4.100e+00, 2.740e+00, ..., 6.100e-01, 1.600e+00,\n",
       "        5.600e+02]], shape=(178, 13))"
      ]
     },
     "execution_count": 3,
     "metadata": {},
     "output_type": "execute_result"
    }
   ],
   "source": [
    "vinhos.data"
   ]
  },
  {
   "cell_type": "code",
   "execution_count": 5,
   "id": "4c06b3ad",
   "metadata": {},
   "outputs": [],
   "source": [
    "# descrição dos atributos (colunas)\n",
    "atributos = ['Alcool', 'Acido malico', 'Cinzas', \n",
    "             'Alcalinidade das cinzas', 'Magnesio', \n",
    "             'Fenois totais', 'Flavonoides', \n",
    "             'Fenois nao flavonoides', 'Proantocianinas',\n",
    "             'Intensidade da cor', 'Matiz',\n",
    "             'OD280/OD315 de vinhos diluídos', 'Prolina']\n",
    "\n",
    "# criando a coluna alvo\n",
    "alvo = 'classe'\n",
    "\n",
    "# criando o dataframe com as colunas atributos definidas\n",
    "vinhos_df = pd.DataFrame(vinhos.data, columns=atributos)\n",
    "\n",
    "# Adiciona o rótulo da classe\n",
    "vinhos_df[alvo] = vinhos.target"
   ]
  },
  {
   "cell_type": "markdown",
   "id": "8cb91c18",
   "metadata": {},
   "source": [
    "### Exploração dos dados"
   ]
  },
  {
   "cell_type": "code",
   "execution_count": 6,
   "id": "19eeeba2",
   "metadata": {},
   "outputs": [
    {
     "name": "stdout",
     "output_type": "stream",
     "text": [
      "<class 'pandas.core.frame.DataFrame'>\n",
      "RangeIndex: 178 entries, 0 to 177\n",
      "Data columns (total 14 columns):\n",
      " #   Column                          Non-Null Count  Dtype  \n",
      "---  ------                          --------------  -----  \n",
      " 0   Alcool                          178 non-null    float64\n",
      " 1   Acido malico                    178 non-null    float64\n",
      " 2   Cinzas                          178 non-null    float64\n",
      " 3   Alcalinidade das cinzas         178 non-null    float64\n",
      " 4   Magnesio                        178 non-null    float64\n",
      " 5   Fenois totais                   178 non-null    float64\n",
      " 6   Flavonoides                     178 non-null    float64\n",
      " 7   Fenois nao flavonoides          178 non-null    float64\n",
      " 8   Proantocianinas                 178 non-null    float64\n",
      " 9   Intensidade da cor              178 non-null    float64\n",
      " 10  Matiz                           178 non-null    float64\n",
      " 11  OD280/OD315 de vinhos diluídos  178 non-null    float64\n",
      " 12  Prolina                         178 non-null    float64\n",
      " 13  classe                          178 non-null    int64  \n",
      "dtypes: float64(13), int64(1)\n",
      "memory usage: 19.6 KB\n"
     ]
    }
   ],
   "source": [
    "vinhos_df.info()"
   ]
  },
  {
   "cell_type": "code",
   "execution_count": 7,
   "id": "78678913",
   "metadata": {},
   "outputs": [
    {
     "data": {
      "text/plain": [
       "Index(['Alcool', 'Acido malico', 'Cinzas', 'Alcalinidade das cinzas',\n",
       "       'Magnesio', 'Fenois totais', 'Flavonoides', 'Fenois nao flavonoides',\n",
       "       'Proantocianinas', 'Intensidade da cor', 'Matiz',\n",
       "       'OD280/OD315 de vinhos diluídos', 'Prolina', 'classe'],\n",
       "      dtype='object')"
      ]
     },
     "execution_count": 7,
     "metadata": {},
     "output_type": "execute_result"
    }
   ],
   "source": [
    "vinhos_df.columns"
   ]
  },
  {
   "cell_type": "code",
   "execution_count": 8,
   "id": "85c77bc3",
   "metadata": {},
   "outputs": [
    {
     "data": {
      "text/html": [
       "<div>\n",
       "<style scoped>\n",
       "    .dataframe tbody tr th:only-of-type {\n",
       "        vertical-align: middle;\n",
       "    }\n",
       "\n",
       "    .dataframe tbody tr th {\n",
       "        vertical-align: top;\n",
       "    }\n",
       "\n",
       "    .dataframe thead th {\n",
       "        text-align: right;\n",
       "    }\n",
       "</style>\n",
       "<table border=\"1\" class=\"dataframe\">\n",
       "  <thead>\n",
       "    <tr style=\"text-align: right;\">\n",
       "      <th></th>\n",
       "      <th>Alcool</th>\n",
       "      <th>Acido malico</th>\n",
       "      <th>Cinzas</th>\n",
       "      <th>Alcalinidade das cinzas</th>\n",
       "      <th>Magnesio</th>\n",
       "      <th>Fenois totais</th>\n",
       "      <th>Flavonoides</th>\n",
       "      <th>Fenois nao flavonoides</th>\n",
       "      <th>Proantocianinas</th>\n",
       "      <th>Intensidade da cor</th>\n",
       "      <th>Matiz</th>\n",
       "      <th>OD280/OD315 de vinhos diluídos</th>\n",
       "      <th>Prolina</th>\n",
       "      <th>classe</th>\n",
       "    </tr>\n",
       "  </thead>\n",
       "  <tbody>\n",
       "    <tr>\n",
       "      <th>count</th>\n",
       "      <td>178.000000</td>\n",
       "      <td>178.000000</td>\n",
       "      <td>178.000000</td>\n",
       "      <td>178.000000</td>\n",
       "      <td>178.000000</td>\n",
       "      <td>178.000000</td>\n",
       "      <td>178.000000</td>\n",
       "      <td>178.000000</td>\n",
       "      <td>178.000000</td>\n",
       "      <td>178.000000</td>\n",
       "      <td>178.000000</td>\n",
       "      <td>178.000000</td>\n",
       "      <td>178.000000</td>\n",
       "      <td>178.000000</td>\n",
       "    </tr>\n",
       "    <tr>\n",
       "      <th>mean</th>\n",
       "      <td>13.000618</td>\n",
       "      <td>2.336348</td>\n",
       "      <td>2.366517</td>\n",
       "      <td>19.494944</td>\n",
       "      <td>99.741573</td>\n",
       "      <td>2.295112</td>\n",
       "      <td>2.029270</td>\n",
       "      <td>0.361854</td>\n",
       "      <td>1.590899</td>\n",
       "      <td>5.058090</td>\n",
       "      <td>0.957449</td>\n",
       "      <td>2.611685</td>\n",
       "      <td>746.893258</td>\n",
       "      <td>0.938202</td>\n",
       "    </tr>\n",
       "    <tr>\n",
       "      <th>std</th>\n",
       "      <td>0.811827</td>\n",
       "      <td>1.117146</td>\n",
       "      <td>0.274344</td>\n",
       "      <td>3.339564</td>\n",
       "      <td>14.282484</td>\n",
       "      <td>0.625851</td>\n",
       "      <td>0.998859</td>\n",
       "      <td>0.124453</td>\n",
       "      <td>0.572359</td>\n",
       "      <td>2.318286</td>\n",
       "      <td>0.228572</td>\n",
       "      <td>0.709990</td>\n",
       "      <td>314.907474</td>\n",
       "      <td>0.775035</td>\n",
       "    </tr>\n",
       "    <tr>\n",
       "      <th>min</th>\n",
       "      <td>11.030000</td>\n",
       "      <td>0.740000</td>\n",
       "      <td>1.360000</td>\n",
       "      <td>10.600000</td>\n",
       "      <td>70.000000</td>\n",
       "      <td>0.980000</td>\n",
       "      <td>0.340000</td>\n",
       "      <td>0.130000</td>\n",
       "      <td>0.410000</td>\n",
       "      <td>1.280000</td>\n",
       "      <td>0.480000</td>\n",
       "      <td>1.270000</td>\n",
       "      <td>278.000000</td>\n",
       "      <td>0.000000</td>\n",
       "    </tr>\n",
       "    <tr>\n",
       "      <th>25%</th>\n",
       "      <td>12.362500</td>\n",
       "      <td>1.602500</td>\n",
       "      <td>2.210000</td>\n",
       "      <td>17.200000</td>\n",
       "      <td>88.000000</td>\n",
       "      <td>1.742500</td>\n",
       "      <td>1.205000</td>\n",
       "      <td>0.270000</td>\n",
       "      <td>1.250000</td>\n",
       "      <td>3.220000</td>\n",
       "      <td>0.782500</td>\n",
       "      <td>1.937500</td>\n",
       "      <td>500.500000</td>\n",
       "      <td>0.000000</td>\n",
       "    </tr>\n",
       "    <tr>\n",
       "      <th>50%</th>\n",
       "      <td>13.050000</td>\n",
       "      <td>1.865000</td>\n",
       "      <td>2.360000</td>\n",
       "      <td>19.500000</td>\n",
       "      <td>98.000000</td>\n",
       "      <td>2.355000</td>\n",
       "      <td>2.135000</td>\n",
       "      <td>0.340000</td>\n",
       "      <td>1.555000</td>\n",
       "      <td>4.690000</td>\n",
       "      <td>0.965000</td>\n",
       "      <td>2.780000</td>\n",
       "      <td>673.500000</td>\n",
       "      <td>1.000000</td>\n",
       "    </tr>\n",
       "    <tr>\n",
       "      <th>75%</th>\n",
       "      <td>13.677500</td>\n",
       "      <td>3.082500</td>\n",
       "      <td>2.557500</td>\n",
       "      <td>21.500000</td>\n",
       "      <td>107.000000</td>\n",
       "      <td>2.800000</td>\n",
       "      <td>2.875000</td>\n",
       "      <td>0.437500</td>\n",
       "      <td>1.950000</td>\n",
       "      <td>6.200000</td>\n",
       "      <td>1.120000</td>\n",
       "      <td>3.170000</td>\n",
       "      <td>985.000000</td>\n",
       "      <td>2.000000</td>\n",
       "    </tr>\n",
       "    <tr>\n",
       "      <th>max</th>\n",
       "      <td>14.830000</td>\n",
       "      <td>5.800000</td>\n",
       "      <td>3.230000</td>\n",
       "      <td>30.000000</td>\n",
       "      <td>162.000000</td>\n",
       "      <td>3.880000</td>\n",
       "      <td>5.080000</td>\n",
       "      <td>0.660000</td>\n",
       "      <td>3.580000</td>\n",
       "      <td>13.000000</td>\n",
       "      <td>1.710000</td>\n",
       "      <td>4.000000</td>\n",
       "      <td>1680.000000</td>\n",
       "      <td>2.000000</td>\n",
       "    </tr>\n",
       "  </tbody>\n",
       "</table>\n",
       "</div>"
      ],
      "text/plain": [
       "           Alcool  Acido malico      Cinzas  Alcalinidade das cinzas  \\\n",
       "count  178.000000    178.000000  178.000000               178.000000   \n",
       "mean    13.000618      2.336348    2.366517                19.494944   \n",
       "std      0.811827      1.117146    0.274344                 3.339564   \n",
       "min     11.030000      0.740000    1.360000                10.600000   \n",
       "25%     12.362500      1.602500    2.210000                17.200000   \n",
       "50%     13.050000      1.865000    2.360000                19.500000   \n",
       "75%     13.677500      3.082500    2.557500                21.500000   \n",
       "max     14.830000      5.800000    3.230000                30.000000   \n",
       "\n",
       "         Magnesio  Fenois totais  Flavonoides  Fenois nao flavonoides  \\\n",
       "count  178.000000     178.000000   178.000000              178.000000   \n",
       "mean    99.741573       2.295112     2.029270                0.361854   \n",
       "std     14.282484       0.625851     0.998859                0.124453   \n",
       "min     70.000000       0.980000     0.340000                0.130000   \n",
       "25%     88.000000       1.742500     1.205000                0.270000   \n",
       "50%     98.000000       2.355000     2.135000                0.340000   \n",
       "75%    107.000000       2.800000     2.875000                0.437500   \n",
       "max    162.000000       3.880000     5.080000                0.660000   \n",
       "\n",
       "       Proantocianinas  Intensidade da cor       Matiz  \\\n",
       "count       178.000000          178.000000  178.000000   \n",
       "mean          1.590899            5.058090    0.957449   \n",
       "std           0.572359            2.318286    0.228572   \n",
       "min           0.410000            1.280000    0.480000   \n",
       "25%           1.250000            3.220000    0.782500   \n",
       "50%           1.555000            4.690000    0.965000   \n",
       "75%           1.950000            6.200000    1.120000   \n",
       "max           3.580000           13.000000    1.710000   \n",
       "\n",
       "       OD280/OD315 de vinhos diluídos      Prolina      classe  \n",
       "count                      178.000000   178.000000  178.000000  \n",
       "mean                         2.611685   746.893258    0.938202  \n",
       "std                          0.709990   314.907474    0.775035  \n",
       "min                          1.270000   278.000000    0.000000  \n",
       "25%                          1.937500   500.500000    0.000000  \n",
       "50%                          2.780000   673.500000    1.000000  \n",
       "75%                          3.170000   985.000000    2.000000  \n",
       "max                          4.000000  1680.000000    2.000000  "
      ]
     },
     "execution_count": 8,
     "metadata": {},
     "output_type": "execute_result"
    }
   ],
   "source": [
    "vinhos_df.describe()"
   ]
  },
  {
   "cell_type": "markdown",
   "id": "266154e8",
   "metadata": {},
   "source": [
    "### Pré-processamento\n"
   ]
  },
  {
   "cell_type": "code",
   "execution_count": null,
   "id": "2108cdf5",
   "metadata": {},
   "outputs": [],
   "source": [
    "# Copiando o dataframe e separando as colunas de Atributos e Alvo\n",
    "X = vinhos_df[atributos].copy()\n",
    "y = vinhos_df[alvo].copy()\n",
    "\n",
    "# Instanciar o scaler e ajustar as características\n",
    "scaler = StandardScaler()\n",
    "scaler.fit(X.values)"
   ]
  }
 ],
 "metadata": {
  "kernelspec": {
   "display_name": "env",
   "language": "python",
   "name": "python3"
  },
  "language_info": {
   "codemirror_mode": {
    "name": "ipython",
    "version": 3
   },
   "file_extension": ".py",
   "mimetype": "text/x-python",
   "name": "python",
   "nbconvert_exporter": "python",
   "pygments_lexer": "ipython3",
   "version": "3.11.9"
  }
 },
 "nbformat": 4,
 "nbformat_minor": 5
}
